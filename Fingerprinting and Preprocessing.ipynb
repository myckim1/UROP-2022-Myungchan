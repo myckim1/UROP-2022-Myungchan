{
 "cells": [
  {
   "cell_type": "markdown",
   "id": "4738256d",
   "metadata": {},
   "source": [
    "### Exploring Fingerprints & RDKit"
   ]
  },
  {
   "cell_type": "code",
   "execution_count": 1,
   "id": "ba3474af",
   "metadata": {},
   "outputs": [],
   "source": [
    "#conda update -n base -c defaults conda\n"
   ]
  },
  {
   "cell_type": "code",
   "execution_count": 2,
   "id": "21fdaab3",
   "metadata": {},
   "outputs": [],
   "source": [
    "from rdkit import Chem"
   ]
  },
  {
   "cell_type": "code",
   "execution_count": 3,
   "id": "4348a270",
   "metadata": {},
   "outputs": [],
   "source": [
    "trial_SMILES = 'CC1(C)C2CCC(C2)C1=C' #(-)-camphene,"
   ]
  },
  {
   "cell_type": "markdown",
   "id": "aa87d3eb",
   "metadata": {},
   "source": [
    "I decided to explore using Chemical Finger Prints and/or molecular descriptors and then using the output as the input of a ML algorithm or a neural network regressor. https://stats.stackexchange.com/questions/56010/predicting-chemical-property-boiling-point-from-a-smiles-string\n",
    "\n",
    "##### A very common fingerprinting technique used seems to be ECFP (Extended-connectivity Fingerprints).\n",
    "\n",
    "For each atom in the molecule, an integer identifier is assigned. There are 6 properties used to assign the initial number:\n",
    "1. Number of neighbouring \"heavy\" atoms\n",
    "2. Valence must the number of Hydrogens\n",
    "3. The atomic number\n",
    "4. The atomic mass\n",
    "5. The atomic charge\n",
    "5. The number of attached hydrogen\n",
    "(Directly taken from the ECFP paper: https://pubs.acs.org/doi/pdf/10.1021/ci100050t)\n",
    "\n",
    "Then, these integers are put through a hashing function and replaces the original numbers. Also, the output of this step also includes the hashed number, along with the bond order.\n",
    "\n",
    "This hashing step is repeated a set number of times.\n",
    "\n",
    "Essentially, this is encoding different possible substructures within the molecule and encoding them as an array (which would be useful for machine learning algorithms). Also with more iterations, more possible substructures and details of the molecule are encoded (at the cost of computation requirements).\n",
    "\n",
    "It is common practice for 1-4 iterations to be done depending on the use. 1-2 are used for comparisons while 3-4 are usually used for predictions based on fingerprinting. Also, note that an ECFP made with 1 iteration is named ECFP2, 2 iterations ECFP4, ...\n"
   ]
  },
  {
   "cell_type": "code",
   "execution_count": 4,
   "id": "5a8bc648",
   "metadata": {},
   "outputs": [],
   "source": [
    "from rdkit.Chem import AllChem"
   ]
  },
  {
   "cell_type": "code",
   "execution_count": 5,
   "id": "5ce77d25",
   "metadata": {},
   "outputs": [],
   "source": [
    "m1 = Chem.MolFromSmiles(trial_SMILES)\n",
    "fp1 = AllChem.GetMorganFingerprint(m1,1) #Used for predictions based on fingerprinting"
   ]
  },
  {
   "cell_type": "markdown",
   "id": "0c58cfe9",
   "metadata": {},
   "source": [
    "The fingerprint method seems to be returning an UIntSparseIntVect. Checking available methods:"
   ]
  },
  {
   "cell_type": "code",
   "execution_count": 6,
   "id": "19899075",
   "metadata": {
    "scrolled": true
   },
   "outputs": [
    {
     "data": {
      "text/plain": [
       "['GetLength',\n",
       " 'GetNonzeroElements',\n",
       " 'GetTotalVal',\n",
       " 'ToBinary',\n",
       " 'ToList',\n",
       " 'UpdateFromSequence',\n",
       " '__add__',\n",
       " '__and__',\n",
       " '__class__',\n",
       " '__delattr__',\n",
       " '__dict__',\n",
       " '__dir__',\n",
       " '__doc__',\n",
       " '__eq__',\n",
       " '__format__',\n",
       " '__ge__',\n",
       " '__getattribute__',\n",
       " '__getinitargs__',\n",
       " '__getitem__',\n",
       " '__gt__',\n",
       " '__hash__',\n",
       " '__iadd__',\n",
       " '__idiv__',\n",
       " '__imul__',\n",
       " '__init__',\n",
       " '__init_subclass__',\n",
       " '__instance_size__',\n",
       " '__isub__',\n",
       " '__le__',\n",
       " '__lt__',\n",
       " '__module__',\n",
       " '__ne__',\n",
       " '__new__',\n",
       " '__or__',\n",
       " '__reduce__',\n",
       " '__reduce_ex__',\n",
       " '__repr__',\n",
       " '__safe_for_unpickling__',\n",
       " '__setattr__',\n",
       " '__setitem__',\n",
       " '__sizeof__',\n",
       " '__str__',\n",
       " '__sub__',\n",
       " '__subclasshook__',\n",
       " '__weakref__']"
      ]
     },
     "execution_count": 6,
     "metadata": {},
     "output_type": "execute_result"
    }
   ],
   "source": [
    "dir(fp1)"
   ]
  },
  {
   "cell_type": "code",
   "execution_count": 7,
   "id": "507cd7cb",
   "metadata": {
    "scrolled": true
   },
   "outputs": [
    {
     "data": {
      "text/plain": [
       "{440332323: 1,\n",
       " 517457164: 1,\n",
       " 1861965050: 2,\n",
       " 2117068077: 2,\n",
       " 2246728737: 2,\n",
       " 2246997334: 1,\n",
       " 2663617800: 1,\n",
       " 2968968094: 3,\n",
       " 2975316496: 1,\n",
       " 2976033787: 2,\n",
       " 2976816164: 1,\n",
       " 3217380708: 1,\n",
       " 3482873808: 1,\n",
       " 4273842364: 1}"
      ]
     },
     "execution_count": 7,
     "metadata": {},
     "output_type": "execute_result"
    }
   ],
   "source": [
    "fp1.GetNonzeroElements() #Get the hashed integers in a dictionary"
   ]
  },
  {
   "cell_type": "markdown",
   "id": "5e9d6e34",
   "metadata": {},
   "source": [
    "Usually, a bit vector is commonly used."
   ]
  },
  {
   "cell_type": "code",
   "execution_count": 8,
   "id": "f4fa6347",
   "metadata": {},
   "outputs": [],
   "source": [
    "fp1_bit = AllChem.GetMorganFingerprintAsBitVect(m1,3,nBits=1024)"
   ]
  },
  {
   "cell_type": "code",
   "execution_count": 9,
   "id": "aec399b9",
   "metadata": {
    "scrolled": true
   },
   "outputs": [
    {
     "data": {
      "text/plain": [
       "['FromBase64',\n",
       " 'GetBit',\n",
       " 'GetNumBits',\n",
       " 'GetNumOffBits',\n",
       " 'GetNumOnBits',\n",
       " 'GetOnBits',\n",
       " 'SetBit',\n",
       " 'SetBitsFromList',\n",
       " 'ToBase64',\n",
       " 'ToBinary',\n",
       " 'ToBitString',\n",
       " 'ToList',\n",
       " 'UnSetBit',\n",
       " 'UnSetBitsFromList',\n",
       " '__add__',\n",
       " '__and__',\n",
       " '__class__',\n",
       " '__delattr__',\n",
       " '__dict__',\n",
       " '__dir__',\n",
       " '__doc__',\n",
       " '__eq__',\n",
       " '__format__',\n",
       " '__ge__',\n",
       " '__getattribute__',\n",
       " '__getinitargs__',\n",
       " '__getitem__',\n",
       " '__gt__',\n",
       " '__hash__',\n",
       " '__iadd__',\n",
       " '__init__',\n",
       " '__init_subclass__',\n",
       " '__instance_size__',\n",
       " '__invert__',\n",
       " '__le__',\n",
       " '__len__',\n",
       " '__lt__',\n",
       " '__module__',\n",
       " '__ne__',\n",
       " '__new__',\n",
       " '__or__',\n",
       " '__reduce__',\n",
       " '__reduce_ex__',\n",
       " '__repr__',\n",
       " '__safe_for_unpickling__',\n",
       " '__setattr__',\n",
       " '__setitem__',\n",
       " '__sizeof__',\n",
       " '__str__',\n",
       " '__subclasshook__',\n",
       " '__weakref__',\n",
       " '__xor__']"
      ]
     },
     "execution_count": 9,
     "metadata": {},
     "output_type": "execute_result"
    }
   ],
   "source": [
    "dir(fp1_bit)"
   ]
  },
  {
   "cell_type": "code",
   "execution_count": 10,
   "id": "21523e6a",
   "metadata": {},
   "outputs": [
    {
     "data": {
      "text/plain": [
       "'0000000000000000000000000000000001011000000000000000000000000000000000000000000000000000000000000000000000000000000000000000000000000000000000000100000000000000000000000000000000000000000010000000000000001000100000000000000000000000000000000000000000100000010000101000100000000000000000000000000000000100000000000000000000000000000000000000001000000000000010000000000000000000000010000000000000000000000000000000000000000000000000000000000000000010000000000000000000000000000000000000010000000000000000000000000000000000000000001000000000000000000000000000000000000000000000000000000000000000000000000000000000000000000000000000000000000000000000000000000000000000000000000000000000000000000000000000000000000000000000000000000000000000000000000000000000000000000000000000000000000000000000000000000000000000000000000000000000000000000000000000000000000000000000000000000000000000000000000000000000000000000000000000000000000010000000000000000000000000000010000000000000000000100000000000000000000000000000000010000000010000'"
      ]
     },
     "execution_count": 10,
     "metadata": {},
     "output_type": "execute_result"
    }
   ],
   "source": [
    "fp1_bit.ToBitString()"
   ]
  },
  {
   "cell_type": "code",
   "execution_count": 11,
   "id": "08d964ff",
   "metadata": {},
   "outputs": [
    {
     "data": {
      "text/plain": [
       "1024"
      ]
     },
     "execution_count": 11,
     "metadata": {},
     "output_type": "execute_result"
    }
   ],
   "source": [
    "len(fp1_bit)"
   ]
  },
  {
   "cell_type": "code",
   "execution_count": 12,
   "id": "fe072727",
   "metadata": {},
   "outputs": [
    {
     "data": {
      "text/plain": [
       "35"
      ]
     },
     "execution_count": 12,
     "metadata": {},
     "output_type": "execute_result"
    }
   ],
   "source": [
    "(list(fp1.GetNonzeroElements().keys())[0])%1024 #Get the hashed integers in a dictionart"
   ]
  },
  {
   "cell_type": "code",
   "execution_count": 13,
   "id": "acf1e407",
   "metadata": {},
   "outputs": [
    {
     "data": {
      "text/plain": [
       "'1'"
      ]
     },
     "execution_count": 13,
     "metadata": {},
     "output_type": "execute_result"
    }
   ],
   "source": [
    "fp1_bit.ToBitString()[956]"
   ]
  },
  {
   "cell_type": "markdown",
   "id": "03aec428",
   "metadata": {},
   "source": [
    "How this works: The algorithm encodes all possible substructures of radius 3 from some central atom via hash functions which results in hashed values. These hashed values are mapped onto a 1024 bit representation. For example, on the first carbon of trial_SMILES, the substructure with radius 3 has hashed value 199325628. 199325628 is congruent to 956 mod 1024. And hence, the 956th bit of the representation will be 1."
   ]
  },
  {
   "cell_type": "markdown",
   "id": "fb7b413f",
   "metadata": {},
   "source": [
    "This means that a lower bit number will mean more bit collisions: the 1024 bit representation can only encode 1024 unique structures without bit collision."
   ]
  },
  {
   "cell_type": "markdown",
   "id": "0a7e1a4f",
   "metadata": {},
   "source": [
    "#### Now Get the fingerprint 1024 bit representation for all chemicals"
   ]
  },
  {
   "cell_type": "code",
   "execution_count": 14,
   "id": "752fc4af",
   "metadata": {},
   "outputs": [],
   "source": [
    "import numpy as np\n",
    "import pandas as pd"
   ]
  },
  {
   "cell_type": "code",
   "execution_count": 15,
   "id": "cfee522d",
   "metadata": {},
   "outputs": [],
   "source": [
    "data_SMILES = pd.read_csv('boiling_data_smiles.csv')"
   ]
  },
  {
   "cell_type": "code",
   "execution_count": 16,
   "id": "11f8a942",
   "metadata": {},
   "outputs": [],
   "source": [
    "#Define a function to make implementation easier\n",
    "def get_ECFP_bit(SMILES,iterations=0,nbit=32):\n",
    "    try:\n",
    "        m = Chem.MolFromSmiles(SMILES)\n",
    "        ecfp_bit = AllChem.GetMorganFingerprintAsBitVect(m,iterations,nBits=nbit)\n",
    "        return ecfp_bit.ToBitString()\n",
    "    except:\n",
    "        return 'FAILED'"
   ]
  },
  {
   "cell_type": "code",
   "execution_count": 17,
   "id": "6428c5e6",
   "metadata": {},
   "outputs": [],
   "source": [
    "#First Remove the chemicals without a SMILES string\n",
    "data_SMILES_cleaned = data_SMILES[data_SMILES['SMILES'] != '-']\n",
    "data_SMILES_cleaned.reset_index(drop=True, inplace=True)"
   ]
  },
  {
   "cell_type": "code",
   "execution_count": 18,
   "id": "3c8840f6",
   "metadata": {},
   "outputs": [
    {
     "data": {
      "text/html": [
       "<div>\n",
       "<style scoped>\n",
       "    .dataframe tbody tr th:only-of-type {\n",
       "        vertical-align: middle;\n",
       "    }\n",
       "\n",
       "    .dataframe tbody tr th {\n",
       "        vertical-align: top;\n",
       "    }\n",
       "\n",
       "    .dataframe thead th {\n",
       "        text-align: right;\n",
       "    }\n",
       "</style>\n",
       "<table border=\"1\" class=\"dataframe\">\n",
       "  <thead>\n",
       "    <tr style=\"text-align: right;\">\n",
       "      <th></th>\n",
       "      <th>name</th>\n",
       "      <th>molweight</th>\n",
       "      <th>critical temperature (K)</th>\n",
       "      <th>acentric factor</th>\n",
       "      <th>boiling point (K)</th>\n",
       "      <th>SMILES</th>\n",
       "    </tr>\n",
       "  </thead>\n",
       "  <tbody>\n",
       "    <tr>\n",
       "      <th>0</th>\n",
       "      <td>(+)-camphene</td>\n",
       "      <td>136.23704</td>\n",
       "      <td>638.00</td>\n",
       "      <td>0.2960</td>\n",
       "      <td>432.65</td>\n",
       "      <td>CC1(C)C2CCC(C2)C1=C</td>\n",
       "    </tr>\n",
       "    <tr>\n",
       "      <th>1</th>\n",
       "      <td>(-)-a-pinene</td>\n",
       "      <td>136.23704</td>\n",
       "      <td>647.00</td>\n",
       "      <td>0.3410</td>\n",
       "      <td>429.35</td>\n",
       "      <td>CC1=CC[C@H]2C[C@@H]1C2(C)C</td>\n",
       "    </tr>\n",
       "    <tr>\n",
       "      <th>2</th>\n",
       "      <td>(-)-camphene</td>\n",
       "      <td>136.23704</td>\n",
       "      <td>638.00</td>\n",
       "      <td>0.2960</td>\n",
       "      <td>439.95</td>\n",
       "      <td>CC1(C)C2CCC(C2)C1=C</td>\n",
       "    </tr>\n",
       "    <tr>\n",
       "      <th>3</th>\n",
       "      <td>(1,1-dimethylbutyl)benzene</td>\n",
       "      <td>162.27492</td>\n",
       "      <td>697.15</td>\n",
       "      <td>0.4370</td>\n",
       "      <td>478.65</td>\n",
       "      <td>CCCC(C)(C)c1ccccc1</td>\n",
       "    </tr>\n",
       "    <tr>\n",
       "      <th>4</th>\n",
       "      <td>(1-butylhexadecyl)benzene</td>\n",
       "      <td>358.65124</td>\n",
       "      <td>851.65</td>\n",
       "      <td>0.7590</td>\n",
       "      <td>693.15</td>\n",
       "      <td>CCCCCCCCCCCCCCCC(CCCC)c1ccccc1</td>\n",
       "    </tr>\n",
       "    <tr>\n",
       "      <th>...</th>\n",
       "      <td>...</td>\n",
       "      <td>...</td>\n",
       "      <td>...</td>\n",
       "      <td>...</td>\n",
       "      <td>...</td>\n",
       "      <td>...</td>\n",
       "    </tr>\n",
       "    <tr>\n",
       "      <th>5903</th>\n",
       "      <td>vinylacetylene</td>\n",
       "      <td>52.07576</td>\n",
       "      <td>454.00</td>\n",
       "      <td>0.1180</td>\n",
       "      <td>278.25</td>\n",
       "      <td>C/C=C/C=C</td>\n",
       "    </tr>\n",
       "    <tr>\n",
       "      <th>5904</th>\n",
       "      <td>vinylcyclohexene</td>\n",
       "      <td>108.18328</td>\n",
       "      <td>599.00</td>\n",
       "      <td>0.3290</td>\n",
       "      <td>401.00</td>\n",
       "      <td>CC(C)/C=C/Cl</td>\n",
       "    </tr>\n",
       "    <tr>\n",
       "      <th>5905</th>\n",
       "      <td>water</td>\n",
       "      <td>18.01528</td>\n",
       "      <td>647.13</td>\n",
       "      <td>0.3449</td>\n",
       "      <td>373.15</td>\n",
       "      <td>C/C=C/CF</td>\n",
       "    </tr>\n",
       "    <tr>\n",
       "      <th>5906</th>\n",
       "      <td>zirconium chloride</td>\n",
       "      <td>233.03480</td>\n",
       "      <td>778.00</td>\n",
       "      <td>0.2980</td>\n",
       "      <td>604.15</td>\n",
       "      <td>C\\C(c1ccccc1)=C(\\C)c2ccccc2</td>\n",
       "    </tr>\n",
       "    <tr>\n",
       "      <th>5907</th>\n",
       "      <td>zirconium iodide</td>\n",
       "      <td>598.84188</td>\n",
       "      <td>960.00</td>\n",
       "      <td>0.3430</td>\n",
       "      <td>704.15</td>\n",
       "      <td>[Zr+4].[I-].[I-].[I-].[I-]</td>\n",
       "    </tr>\n",
       "  </tbody>\n",
       "</table>\n",
       "<p>5908 rows × 6 columns</p>\n",
       "</div>"
      ],
      "text/plain": [
       "                            name  molweight  critical temperature (K)  \\\n",
       "0                   (+)-camphene  136.23704                    638.00   \n",
       "1                   (-)-a-pinene  136.23704                    647.00   \n",
       "2                   (-)-camphene  136.23704                    638.00   \n",
       "3     (1,1-dimethylbutyl)benzene  162.27492                    697.15   \n",
       "4      (1-butylhexadecyl)benzene  358.65124                    851.65   \n",
       "...                          ...        ...                       ...   \n",
       "5903              vinylacetylene   52.07576                    454.00   \n",
       "5904            vinylcyclohexene  108.18328                    599.00   \n",
       "5905                       water   18.01528                    647.13   \n",
       "5906          zirconium chloride  233.03480                    778.00   \n",
       "5907            zirconium iodide  598.84188                    960.00   \n",
       "\n",
       "      acentric factor  boiling point (K)                          SMILES  \n",
       "0              0.2960             432.65             CC1(C)C2CCC(C2)C1=C  \n",
       "1              0.3410             429.35      CC1=CC[C@H]2C[C@@H]1C2(C)C  \n",
       "2              0.2960             439.95             CC1(C)C2CCC(C2)C1=C  \n",
       "3              0.4370             478.65              CCCC(C)(C)c1ccccc1  \n",
       "4              0.7590             693.15  CCCCCCCCCCCCCCCC(CCCC)c1ccccc1  \n",
       "...               ...                ...                             ...  \n",
       "5903           0.1180             278.25                       C/C=C/C=C  \n",
       "5904           0.3290             401.00                    CC(C)/C=C/Cl  \n",
       "5905           0.3449             373.15                        C/C=C/CF  \n",
       "5906           0.2980             604.15     C\\C(c1ccccc1)=C(\\C)c2ccccc2  \n",
       "5907           0.3430             704.15      [Zr+4].[I-].[I-].[I-].[I-]  \n",
       "\n",
       "[5908 rows x 6 columns]"
      ]
     },
     "execution_count": 18,
     "metadata": {},
     "output_type": "execute_result"
    }
   ],
   "source": [
    "data_SMILES_cleaned"
   ]
  },
  {
   "cell_type": "code",
   "execution_count": 19,
   "id": "044a1695",
   "metadata": {},
   "outputs": [
    {
     "name": "stderr",
     "output_type": "stream",
     "text": [
      "[23:43:14] Explicit valence for atom # 1 Cl, 4, is greater than permitted\n",
      "[23:43:14] Explicit valence for atom # 1 Cl, 2, is greater than permitted\n",
      "[23:43:14] Explicit valence for atom # 1 Cl, 5, is greater than permitted\n",
      "[23:43:14] Explicit valence for atom # 1 I, 7, is greater than permitted\n",
      "[23:43:14] Explicit valence for atom # 1 C, 5, is greater than permitted\n",
      "[23:43:14] Explicit valence for atom # 1 Cl, 7, is greater than permitted\n",
      "[23:43:14] SMILES Parse Error: syntax error while parsing: Cl|[V](|Cl)(|Cl)=O\n",
      "[23:43:14] SMILES Parse Error: Failed parsing SMILES 'Cl|[V](|Cl)(|Cl)=O' for input: 'Cl|[V](|Cl)(|Cl)=O'\n",
      "[23:43:14] Explicit valence for atom # 1 Cl, 3, is greater than permitted\n",
      "C:\\Users\\myung\\AppData\\Local\\Temp\\ipykernel_28112\\74598020.py:2: SettingWithCopyWarning: \n",
      "A value is trying to be set on a copy of a slice from a DataFrame.\n",
      "Try using .loc[row_indexer,col_indexer] = value instead\n",
      "\n",
      "See the caveats in the documentation: https://pandas.pydata.org/pandas-docs/stable/user_guide/indexing.html#returning-a-view-versus-a-copy\n",
      "  data_SMILES_cleaned['ECFP_Bits'] = data_SMILES_cleaned['SMILES'].apply(get_ECFP_bit)\n"
     ]
    }
   ],
   "source": [
    "#Now add the bit representation of the ECFP\n",
    "data_SMILES_cleaned['ECFP_Bits'] = data_SMILES_cleaned['SMILES'].apply(get_ECFP_bit)"
   ]
  },
  {
   "cell_type": "code",
   "execution_count": 20,
   "id": "2b593f56",
   "metadata": {},
   "outputs": [
    {
     "data": {
      "text/html": [
       "<div>\n",
       "<style scoped>\n",
       "    .dataframe tbody tr th:only-of-type {\n",
       "        vertical-align: middle;\n",
       "    }\n",
       "\n",
       "    .dataframe tbody tr th {\n",
       "        vertical-align: top;\n",
       "    }\n",
       "\n",
       "    .dataframe thead th {\n",
       "        text-align: right;\n",
       "    }\n",
       "</style>\n",
       "<table border=\"1\" class=\"dataframe\">\n",
       "  <thead>\n",
       "    <tr style=\"text-align: right;\">\n",
       "      <th></th>\n",
       "      <th>name</th>\n",
       "      <th>molweight</th>\n",
       "      <th>critical temperature (K)</th>\n",
       "      <th>acentric factor</th>\n",
       "      <th>boiling point (K)</th>\n",
       "      <th>SMILES</th>\n",
       "      <th>ECFP_Bits</th>\n",
       "    </tr>\n",
       "  </thead>\n",
       "  <tbody>\n",
       "    <tr>\n",
       "      <th>4137</th>\n",
       "      <td>butylcyclopentane</td>\n",
       "      <td>126.241920</td>\n",
       "      <td>621.00</td>\n",
       "      <td>0.372</td>\n",
       "      <td>429.76</td>\n",
       "      <td>O=[Cl]=O</td>\n",
       "      <td>FAILED</td>\n",
       "    </tr>\n",
       "    <tr>\n",
       "      <th>4140</th>\n",
       "      <td>butyric anhydride</td>\n",
       "      <td>158.197360</td>\n",
       "      <td>644.00</td>\n",
       "      <td>0.655</td>\n",
       "      <td>470.93</td>\n",
       "      <td>O=[Cl]</td>\n",
       "      <td>FAILED</td>\n",
       "    </tr>\n",
       "    <tr>\n",
       "      <th>4141</th>\n",
       "      <td>butyronitrile</td>\n",
       "      <td>69.106320</td>\n",
       "      <td>582.35</td>\n",
       "      <td>0.371</td>\n",
       "      <td>390.75</td>\n",
       "      <td>F[Cl](F)(F)(F)F</td>\n",
       "      <td>FAILED</td>\n",
       "    </tr>\n",
       "    <tr>\n",
       "      <th>4859</th>\n",
       "      <td>hexafluoropropylene</td>\n",
       "      <td>150.023419</td>\n",
       "      <td>368.00</td>\n",
       "      <td>0.205</td>\n",
       "      <td>243.55</td>\n",
       "      <td>F[I](F)(F)(F)(F)(F)F</td>\n",
       "      <td>FAILED</td>\n",
       "    </tr>\n",
       "    <tr>\n",
       "      <th>4862</th>\n",
       "      <td>hexamethyldewarbenzene</td>\n",
       "      <td>162.274920</td>\n",
       "      <td>697.15</td>\n",
       "      <td>0.437</td>\n",
       "      <td>440.00</td>\n",
       "      <td>[Fe+5].[C--]#[O+].[C--]#[O+].[C--]#[O+].[C--]#...</td>\n",
       "      <td>FAILED</td>\n",
       "    </tr>\n",
       "    <tr>\n",
       "      <th>5344</th>\n",
       "      <td>p-diisopropylbenzene hydroperoxide</td>\n",
       "      <td>194.273720</td>\n",
       "      <td>810.00</td>\n",
       "      <td>0.928</td>\n",
       "      <td>616.00</td>\n",
       "      <td>F[Cl](=O)(=O)=O</td>\n",
       "      <td>FAILED</td>\n",
       "    </tr>\n",
       "    <tr>\n",
       "      <th>5781</th>\n",
       "      <td>trans-2-methylcyclohexanol, (±)</td>\n",
       "      <td>114.187560</td>\n",
       "      <td>635.00</td>\n",
       "      <td>0.685</td>\n",
       "      <td>440.65</td>\n",
       "      <td>Cl|[V](|Cl)(|Cl)=O</td>\n",
       "      <td>FAILED</td>\n",
       "    </tr>\n",
       "    <tr>\n",
       "      <th>5827</th>\n",
       "      <td>tridecanoic acid</td>\n",
       "      <td>214.348240</td>\n",
       "      <td>754.00</td>\n",
       "      <td>0.904</td>\n",
       "      <td>585.25</td>\n",
       "      <td>F[Cl](F)F</td>\n",
       "      <td>FAILED</td>\n",
       "    </tr>\n",
       "  </tbody>\n",
       "</table>\n",
       "</div>"
      ],
      "text/plain": [
       "                                    name   molweight  \\\n",
       "4137                   butylcyclopentane  126.241920   \n",
       "4140                   butyric anhydride  158.197360   \n",
       "4141                       butyronitrile   69.106320   \n",
       "4859                 hexafluoropropylene  150.023419   \n",
       "4862              hexamethyldewarbenzene  162.274920   \n",
       "5344  p-diisopropylbenzene hydroperoxide  194.273720   \n",
       "5781     trans-2-methylcyclohexanol, (±)  114.187560   \n",
       "5827                    tridecanoic acid  214.348240   \n",
       "\n",
       "      critical temperature (K)  acentric factor  boiling point (K)  \\\n",
       "4137                    621.00            0.372             429.76   \n",
       "4140                    644.00            0.655             470.93   \n",
       "4141                    582.35            0.371             390.75   \n",
       "4859                    368.00            0.205             243.55   \n",
       "4862                    697.15            0.437             440.00   \n",
       "5344                    810.00            0.928             616.00   \n",
       "5781                    635.00            0.685             440.65   \n",
       "5827                    754.00            0.904             585.25   \n",
       "\n",
       "                                                 SMILES ECFP_Bits  \n",
       "4137                                           O=[Cl]=O    FAILED  \n",
       "4140                                             O=[Cl]    FAILED  \n",
       "4141                                    F[Cl](F)(F)(F)F    FAILED  \n",
       "4859                               F[I](F)(F)(F)(F)(F)F    FAILED  \n",
       "4862  [Fe+5].[C--]#[O+].[C--]#[O+].[C--]#[O+].[C--]#...    FAILED  \n",
       "5344                                    F[Cl](=O)(=O)=O    FAILED  \n",
       "5781                                 Cl|[V](|Cl)(|Cl)=O    FAILED  \n",
       "5827                                          F[Cl](F)F    FAILED  "
      ]
     },
     "execution_count": 20,
     "metadata": {},
     "output_type": "execute_result"
    }
   ],
   "source": [
    "data_SMILES_cleaned[data_SMILES_cleaned[\"ECFP_Bits\"] == 'FAILED']"
   ]
  },
  {
   "cell_type": "markdown",
   "id": "6e8b7085",
   "metadata": {},
   "source": [
    "There are some chemicals that failed during ECFP algorithm. As there are only 8 instances of this happening. We can safely remove these cases."
   ]
  },
  {
   "cell_type": "code",
   "execution_count": 21,
   "id": "f1879d19",
   "metadata": {},
   "outputs": [],
   "source": [
    "data_SMILES_cleaned = data_SMILES_cleaned[data_SMILES_cleaned[\"ECFP_Bits\"] != 'FAILED']"
   ]
  },
  {
   "cell_type": "code",
   "execution_count": 22,
   "id": "f4b465c3",
   "metadata": {},
   "outputs": [],
   "source": [
    "data_SMILES_cleaned.reset_index(drop=True, inplace=True)"
   ]
  },
  {
   "cell_type": "code",
   "execution_count": 23,
   "id": "ca9c7f53",
   "metadata": {},
   "outputs": [
    {
     "data": {
      "text/html": [
       "<div>\n",
       "<style scoped>\n",
       "    .dataframe tbody tr th:only-of-type {\n",
       "        vertical-align: middle;\n",
       "    }\n",
       "\n",
       "    .dataframe tbody tr th {\n",
       "        vertical-align: top;\n",
       "    }\n",
       "\n",
       "    .dataframe thead th {\n",
       "        text-align: right;\n",
       "    }\n",
       "</style>\n",
       "<table border=\"1\" class=\"dataframe\">\n",
       "  <thead>\n",
       "    <tr style=\"text-align: right;\">\n",
       "      <th></th>\n",
       "      <th>name</th>\n",
       "      <th>molweight</th>\n",
       "      <th>critical temperature (K)</th>\n",
       "      <th>acentric factor</th>\n",
       "      <th>boiling point (K)</th>\n",
       "      <th>SMILES</th>\n",
       "      <th>ECFP_Bits</th>\n",
       "    </tr>\n",
       "  </thead>\n",
       "  <tbody>\n",
       "    <tr>\n",
       "      <th>0</th>\n",
       "      <td>(+)-camphene</td>\n",
       "      <td>136.23704</td>\n",
       "      <td>638.00</td>\n",
       "      <td>0.2960</td>\n",
       "      <td>432.65</td>\n",
       "      <td>CC1(C)C2CCC(C2)C1=C</td>\n",
       "      <td>01001000000000000000001000010010</td>\n",
       "    </tr>\n",
       "    <tr>\n",
       "      <th>1</th>\n",
       "      <td>(-)-a-pinene</td>\n",
       "      <td>136.23704</td>\n",
       "      <td>647.00</td>\n",
       "      <td>0.3410</td>\n",
       "      <td>429.35</td>\n",
       "      <td>CC1=CC[C@H]2C[C@@H]1C2(C)C</td>\n",
       "      <td>01001000000000000100000000010010</td>\n",
       "    </tr>\n",
       "    <tr>\n",
       "      <th>2</th>\n",
       "      <td>(-)-camphene</td>\n",
       "      <td>136.23704</td>\n",
       "      <td>638.00</td>\n",
       "      <td>0.2960</td>\n",
       "      <td>439.95</td>\n",
       "      <td>CC1(C)C2CCC(C2)C1=C</td>\n",
       "      <td>01001000000000000000001000010010</td>\n",
       "    </tr>\n",
       "    <tr>\n",
       "      <th>3</th>\n",
       "      <td>(1,1-dimethylbutyl)benzene</td>\n",
       "      <td>162.27492</td>\n",
       "      <td>697.15</td>\n",
       "      <td>0.4370</td>\n",
       "      <td>478.65</td>\n",
       "      <td>CCCC(C)(C)c1ccccc1</td>\n",
       "      <td>01001000000000001110000000000000</td>\n",
       "    </tr>\n",
       "    <tr>\n",
       "      <th>4</th>\n",
       "      <td>(1-butylhexadecyl)benzene</td>\n",
       "      <td>358.65124</td>\n",
       "      <td>851.65</td>\n",
       "      <td>0.7590</td>\n",
       "      <td>693.15</td>\n",
       "      <td>CCCCCCCCCCCCCCCC(CCCC)c1ccccc1</td>\n",
       "      <td>01001000000000001100000000000000</td>\n",
       "    </tr>\n",
       "    <tr>\n",
       "      <th>...</th>\n",
       "      <td>...</td>\n",
       "      <td>...</td>\n",
       "      <td>...</td>\n",
       "      <td>...</td>\n",
       "      <td>...</td>\n",
       "      <td>...</td>\n",
       "      <td>...</td>\n",
       "    </tr>\n",
       "    <tr>\n",
       "      <th>5895</th>\n",
       "      <td>vinylacetylene</td>\n",
       "      <td>52.07576</td>\n",
       "      <td>454.00</td>\n",
       "      <td>0.1180</td>\n",
       "      <td>278.25</td>\n",
       "      <td>C/C=C/C=C</td>\n",
       "      <td>01000000000000000000001000000000</td>\n",
       "    </tr>\n",
       "    <tr>\n",
       "      <th>5896</th>\n",
       "      <td>vinylcyclohexene</td>\n",
       "      <td>108.18328</td>\n",
       "      <td>599.00</td>\n",
       "      <td>0.3290</td>\n",
       "      <td>401.00</td>\n",
       "      <td>CC(C)/C=C/Cl</td>\n",
       "      <td>01000000000000000001001000000000</td>\n",
       "    </tr>\n",
       "    <tr>\n",
       "      <th>5897</th>\n",
       "      <td>water</td>\n",
       "      <td>18.01528</td>\n",
       "      <td>647.13</td>\n",
       "      <td>0.3449</td>\n",
       "      <td>373.15</td>\n",
       "      <td>C/C=C/CF</td>\n",
       "      <td>01000000100000001000001000000000</td>\n",
       "    </tr>\n",
       "    <tr>\n",
       "      <th>5898</th>\n",
       "      <td>zirconium chloride</td>\n",
       "      <td>233.03480</td>\n",
       "      <td>778.00</td>\n",
       "      <td>0.2980</td>\n",
       "      <td>604.15</td>\n",
       "      <td>C\\C(c1ccccc1)=C(\\C)c2ccccc2</td>\n",
       "      <td>01001001000000000100000000000000</td>\n",
       "    </tr>\n",
       "    <tr>\n",
       "      <th>5899</th>\n",
       "      <td>zirconium iodide</td>\n",
       "      <td>598.84188</td>\n",
       "      <td>960.00</td>\n",
       "      <td>0.3430</td>\n",
       "      <td>704.15</td>\n",
       "      <td>[Zr+4].[I-].[I-].[I-].[I-]</td>\n",
       "      <td>00000000000000000001000001000000</td>\n",
       "    </tr>\n",
       "  </tbody>\n",
       "</table>\n",
       "<p>5900 rows × 7 columns</p>\n",
       "</div>"
      ],
      "text/plain": [
       "                            name  molweight  critical temperature (K)  \\\n",
       "0                   (+)-camphene  136.23704                    638.00   \n",
       "1                   (-)-a-pinene  136.23704                    647.00   \n",
       "2                   (-)-camphene  136.23704                    638.00   \n",
       "3     (1,1-dimethylbutyl)benzene  162.27492                    697.15   \n",
       "4      (1-butylhexadecyl)benzene  358.65124                    851.65   \n",
       "...                          ...        ...                       ...   \n",
       "5895              vinylacetylene   52.07576                    454.00   \n",
       "5896            vinylcyclohexene  108.18328                    599.00   \n",
       "5897                       water   18.01528                    647.13   \n",
       "5898          zirconium chloride  233.03480                    778.00   \n",
       "5899            zirconium iodide  598.84188                    960.00   \n",
       "\n",
       "      acentric factor  boiling point (K)                          SMILES  \\\n",
       "0              0.2960             432.65             CC1(C)C2CCC(C2)C1=C   \n",
       "1              0.3410             429.35      CC1=CC[C@H]2C[C@@H]1C2(C)C   \n",
       "2              0.2960             439.95             CC1(C)C2CCC(C2)C1=C   \n",
       "3              0.4370             478.65              CCCC(C)(C)c1ccccc1   \n",
       "4              0.7590             693.15  CCCCCCCCCCCCCCCC(CCCC)c1ccccc1   \n",
       "...               ...                ...                             ...   \n",
       "5895           0.1180             278.25                       C/C=C/C=C   \n",
       "5896           0.3290             401.00                    CC(C)/C=C/Cl   \n",
       "5897           0.3449             373.15                        C/C=C/CF   \n",
       "5898           0.2980             604.15     C\\C(c1ccccc1)=C(\\C)c2ccccc2   \n",
       "5899           0.3430             704.15      [Zr+4].[I-].[I-].[I-].[I-]   \n",
       "\n",
       "                             ECFP_Bits  \n",
       "0     01001000000000000000001000010010  \n",
       "1     01001000000000000100000000010010  \n",
       "2     01001000000000000000001000010010  \n",
       "3     01001000000000001110000000000000  \n",
       "4     01001000000000001100000000000000  \n",
       "...                                ...  \n",
       "5895  01000000000000000000001000000000  \n",
       "5896  01000000000000000001001000000000  \n",
       "5897  01000000100000001000001000000000  \n",
       "5898  01001001000000000100000000000000  \n",
       "5899  00000000000000000001000001000000  \n",
       "\n",
       "[5900 rows x 7 columns]"
      ]
     },
     "execution_count": 23,
     "metadata": {},
     "output_type": "execute_result"
    }
   ],
   "source": [
    "data_SMILES_cleaned"
   ]
  },
  {
   "cell_type": "markdown",
   "id": "f849796c",
   "metadata": {},
   "source": [
    "Now the dataset is ready!"
   ]
  },
  {
   "cell_type": "code",
   "execution_count": 24,
   "id": "7293ede4",
   "metadata": {},
   "outputs": [],
   "source": [
    "data_SMILES_cleaned.to_csv('final_data_0_iter_32.csv',index=False)"
   ]
  },
  {
   "cell_type": "code",
   "execution_count": null,
   "id": "649c718a",
   "metadata": {},
   "outputs": [],
   "source": []
  }
 ],
 "metadata": {
  "kernelspec": {
   "display_name": "Python 3 (ipykernel)",
   "language": "python",
   "name": "python3"
  },
  "language_info": {
   "codemirror_mode": {
    "name": "ipython",
    "version": 3
   },
   "file_extension": ".py",
   "mimetype": "text/x-python",
   "name": "python",
   "nbconvert_exporter": "python",
   "pygments_lexer": "ipython3",
   "version": "3.9.12"
  }
 },
 "nbformat": 4,
 "nbformat_minor": 5
}
